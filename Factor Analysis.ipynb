{
 "cells": [
  {
   "cell_type": "code",
   "execution_count": null,
   "metadata": {
    "colab": {
     "base_uri": "https://localhost:8080/"
    },
    "id": "L606KEH6xvoF",
    "outputId": "fc4db36e-d9f2-4f19-c361-7be71ff2cad3"
   },
   "outputs": [
    {
     "name": "stdout",
     "output_type": "stream",
     "text": [
      "Looking in indexes: https://pypi.org/simple, https://us-python.pkg.dev/colab-wheels/public/simple/\n",
      "Requirement already satisfied: factor_analyzer in /usr/local/lib/python3.7/dist-packages (0.4.0)\n",
      "Requirement already satisfied: numpy in /usr/local/lib/python3.7/dist-packages (from factor_analyzer) (1.21.6)\n",
      "Requirement already satisfied: scikit-learn in /usr/local/lib/python3.7/dist-packages (from factor_analyzer) (1.0.2)\n",
      "Requirement already satisfied: scipy in /usr/local/lib/python3.7/dist-packages (from factor_analyzer) (1.4.1)\n",
      "Requirement already satisfied: pandas in /usr/local/lib/python3.7/dist-packages (from factor_analyzer) (1.3.5)\n",
      "Requirement already satisfied: pytz>=2017.3 in /usr/local/lib/python3.7/dist-packages (from pandas->factor_analyzer) (2022.1)\n",
      "Requirement already satisfied: python-dateutil>=2.7.3 in /usr/local/lib/python3.7/dist-packages (from pandas->factor_analyzer) (2.8.2)\n",
      "Requirement already satisfied: six>=1.5 in /usr/local/lib/python3.7/dist-packages (from python-dateutil>=2.7.3->pandas->factor_analyzer) (1.15.0)\n",
      "Requirement already satisfied: threadpoolctl>=2.0.0 in /usr/local/lib/python3.7/dist-packages (from scikit-learn->factor_analyzer) (3.1.0)\n",
      "Requirement already satisfied: joblib>=0.11 in /usr/local/lib/python3.7/dist-packages (from scikit-learn->factor_analyzer) (1.1.0)\n"
     ]
    }
   ],
   "source": [
    "!pip install factor_analyzer\n"
   ]
  },
  {
   "cell_type": "code",
   "execution_count": 7,
   "metadata": {
    "colab": {
     "base_uri": "https://localhost:8080/"
    },
    "id": "HHHND6efBq5O",
    "outputId": "72dfccc6-87ee-4293-f515-9487ae5eefea"
   },
   "outputs": [
    {
     "name": "stdout",
     "output_type": "stream",
     "text": [
      "<class 'pandas.core.frame.DataFrame'>\n",
      "Int64Index: 400 entries, 0 to 399\n",
      "Data columns (total 9 columns):\n",
      " #   Column             Non-Null Count  Dtype  \n",
      "---  ------             --------------  -----  \n",
      " 0   Serial No.         400 non-null    int64  \n",
      " 1   GRE Score          400 non-null    int64  \n",
      " 2   TOEFL Score        400 non-null    int64  \n",
      " 3   University Rating  400 non-null    int64  \n",
      " 4   SOP                400 non-null    float64\n",
      " 5   LOR                400 non-null    float64\n",
      " 6   CGPA               400 non-null    float64\n",
      " 7   Research           400 non-null    int64  \n",
      " 8   Chance of Admit    400 non-null    float64\n",
      "dtypes: float64(4), int64(5)\n",
      "memory usage: 31.2 KB\n"
     ]
    }
   ],
   "source": [
    "import numpy as np\n",
    "import pandas as pd\n",
    "import matplotlib.pyplot as plt\n",
    "data = pd.read_csv(\"Admission_Predict.csv\")\n",
    "data = data.dropna()\n",
    "data.info()"
   ]
  },
  {
   "cell_type": "code",
   "execution_count": 8,
   "metadata": {
    "colab": {
     "base_uri": "https://localhost:8080/"
    },
    "id": "PzReKNfCy13z",
    "outputId": "bc9bc88c-fa05-43d3-e277-df15ab3be25e"
   },
   "outputs": [
    {
     "data": {
      "text/plain": [
       "(2301.1731114158597, 0.0)"
      ]
     },
     "execution_count": 8,
     "metadata": {},
     "output_type": "execute_result"
    }
   ],
   "source": [
    "data = data.iloc[:,0:8]\n",
    "from factor_analyzer.factor_analyzer import calculate_bartlett_sphericity\n",
    "calculate_bartlett_sphericity(data)"
   ]
  },
  {
   "cell_type": "code",
   "execution_count": 9,
   "metadata": {
    "colab": {
     "base_uri": "https://localhost:8080/"
    },
    "id": "UXIvmk7zIQDg",
    "outputId": "3b745ff2-41f5-42e2-b705-4ee87ae0450b"
   },
   "outputs": [
    {
     "name": "stdout",
     "output_type": "stream",
     "text": [
      "0.8966951994451634\n"
     ]
    }
   ],
   "source": [
    "from factor_analyzer.factor_analyzer import calculate_kmo\n",
    "kmo_all, kmo_model = calculate_kmo(data)\n",
    "print(kmo_model)"
   ]
  },
  {
   "cell_type": "code",
   "execution_count": 10,
   "metadata": {
    "colab": {
     "base_uri": "https://localhost:8080/"
    },
    "id": "pUtEn_cIzYzl",
    "outputId": "7cba7271-0e10-41d6-a640-85310beb60a4"
   },
   "outputs": [
    {
     "data": {
      "text/plain": [
       "array([4.89558448, 1.00042709, 0.71800424, 0.54661955, 0.30258584,\n",
       "       0.24409411, 0.1538543 , 0.13883039])"
      ]
     },
     "execution_count": 10,
     "metadata": {},
     "output_type": "execute_result"
    }
   ],
   "source": [
    "from factor_analyzer import FactorAnalyzer\n",
    "fa = FactorAnalyzer() \n",
    "fa.fit(data)\n",
    "ev, v = fa.get_eigenvalues()\n",
    "ev"
   ]
  },
  {
   "cell_type": "code",
   "execution_count": 11,
   "metadata": {
    "colab": {
     "base_uri": "https://localhost:8080/",
     "height": 295
    },
    "id": "iKMB1BGC476L",
    "outputId": "2adedce9-df5a-4517-ead5-8bb9a7bcfac8"
   },
   "outputs": [
    {
     "data": {
      "image/png": "[encoded data removed]",
      "text/plain": [
       "<Figure size 432x288 with 1 Axes>"
      ]
     },
     "metadata": {
      "needs_background": "light"
     },
     "output_type": "display_data"
    }
   ],
   "source": [
    "plt.scatter(range(1,data.shape[1]+1),ev)\n",
    "plt.plot(range(1,data.shape[1]+1),ev)\n",
    "plt.title('Scree Plot')\n",
    "plt.xlabel('Factors')\n",
    "plt.ylabel('Eigenvalue')\n",
    "plt.grid()\n",
    "plt.show()"
   ]
  },
  {
   "cell_type": "code",
   "execution_count": 12,
   "metadata": {
    "colab": {
     "base_uri": "https://localhost:8080/",
     "height": 300
    },
    "id": "7-3fsld85Gtp",
    "outputId": "c7e3f837-5a1c-4e96-9fcd-3dc3670034e7"
   },
   "outputs": [
    {
     "data": {
      "text/html": [
       "<div>\n",
       "<style scoped>\n",
       "    .dataframe tbody tr th:only-of-type {\n",
       "        vertical-align: middle;\n",
       "    }\n",
       "\n",
       "    .dataframe tbody tr th {\n",
       "        vertical-align: top;\n",
       "    }\n",
       "\n",
       "    .dataframe thead th {\n",
       "        text-align: right;\n",
       "    }\n",
       "</style>\n",
       "<table border=\"1\" class=\"dataframe\">\n",
       "  <thead>\n",
       "    <tr style=\"text-align: right;\">\n",
       "      <th></th>\n",
       "      <th>Factor 1</th>\n",
       "      <th>Factor 2</th>\n",
       "    </tr>\n",
       "  </thead>\n",
       "  <tbody>\n",
       "    <tr>\n",
       "      <th>Serial No.</th>\n",
       "      <td>0.026440</td>\n",
       "      <td>-0.181220</td>\n",
       "    </tr>\n",
       "    <tr>\n",
       "      <th>GRE Score</th>\n",
       "      <td>1.087259</td>\n",
       "      <td>-0.171797</td>\n",
       "    </tr>\n",
       "    <tr>\n",
       "      <th>TOEFL Score</th>\n",
       "      <td>0.806672</td>\n",
       "      <td>0.099470</td>\n",
       "    </tr>\n",
       "    <tr>\n",
       "      <th>University Rating</th>\n",
       "      <td>0.323572</td>\n",
       "      <td>0.573073</td>\n",
       "    </tr>\n",
       "    <tr>\n",
       "      <th>SOP</th>\n",
       "      <td>0.064801</td>\n",
       "      <td>0.857089</td>\n",
       "    </tr>\n",
       "    <tr>\n",
       "      <th>LOR</th>\n",
       "      <td>0.099180</td>\n",
       "      <td>0.721105</td>\n",
       "    </tr>\n",
       "    <tr>\n",
       "      <th>CGPA</th>\n",
       "      <td>0.724451</td>\n",
       "      <td>0.240723</td>\n",
       "    </tr>\n",
       "    <tr>\n",
       "      <th>Research</th>\n",
       "      <td>0.535443</td>\n",
       "      <td>0.062744</td>\n",
       "    </tr>\n",
       "  </tbody>\n",
       "</table>\n",
       "</div>"
      ],
      "text/plain": [
       "                   Factor 1  Factor 2\n",
       "Serial No.         0.026440 -0.181220\n",
       "GRE Score          1.087259 -0.171797\n",
       "TOEFL Score        0.806672  0.099470\n",
       "University Rating  0.323572  0.573073\n",
       "SOP                0.064801  0.857089\n",
       "LOR                0.099180  0.721105\n",
       "CGPA               0.724451  0.240723\n",
       "Research           0.535443  0.062744"
      ]
     },
     "execution_count": 12,
     "metadata": {},
     "output_type": "execute_result"
    }
   ],
   "source": [
    "fa1 = FactorAnalyzer(2)\n",
    "fa1.fit(data)\n",
    "lmatrix1 = pd.DataFrame(fa1.loadings_, index = list(data.columns), columns = ['Factor 1', 'Factor 2' ])\n",
    "lmatrix1"
   ]
  },
  {
   "cell_type": "markdown",
   "metadata": {
    "id": "6B8MtJNQIuvb"
   },
   "source": [
    "Factor 1: GRE Score,TOFEL Score, University Ranking, CGPA, Research\n",
    "\n",
    "Factor 2: University Ranking, SOP, LOR"
   ]
  },
  {
   "cell_type": "code",
   "execution_count": 13,
   "metadata": {
    "colab": {
     "base_uri": "https://localhost:8080/",
     "height": 300
    },
    "id": "jq2Lcb8RJEX0",
    "outputId": "9d389288-e021-4d7c-9155-07dff961b31f"
   },
   "outputs": [
    {
     "data": {
      "text/html": [
       "<div>\n",
       "<style scoped>\n",
       "    .dataframe tbody tr th:only-of-type {\n",
       "        vertical-align: middle;\n",
       "    }\n",
       "\n",
       "    .dataframe tbody tr th {\n",
       "        vertical-align: top;\n",
       "    }\n",
       "\n",
       "    .dataframe thead th {\n",
       "        text-align: right;\n",
       "    }\n",
       "</style>\n",
       "<table border=\"1\" class=\"dataframe\">\n",
       "  <thead>\n",
       "    <tr style=\"text-align: right;\">\n",
       "      <th></th>\n",
       "      <th>Factor 1</th>\n",
       "      <th>Factor 2</th>\n",
       "    </tr>\n",
       "  </thead>\n",
       "  <tbody>\n",
       "    <tr>\n",
       "      <th>Serial No.</th>\n",
       "      <td>0.043753</td>\n",
       "      <td>-0.192983</td>\n",
       "    </tr>\n",
       "    <tr>\n",
       "      <th>GRE Score</th>\n",
       "      <td>1.037570</td>\n",
       "      <td>-0.097393</td>\n",
       "    </tr>\n",
       "    <tr>\n",
       "      <th>TOEFL Score</th>\n",
       "      <td>0.746066</td>\n",
       "      <td>0.172070</td>\n",
       "    </tr>\n",
       "    <tr>\n",
       "      <th>University Rating</th>\n",
       "      <td>0.243482</td>\n",
       "      <td>0.643070</td>\n",
       "    </tr>\n",
       "    <tr>\n",
       "      <th>SOP</th>\n",
       "      <td>-0.028897</td>\n",
       "      <td>0.928017</td>\n",
       "    </tr>\n",
       "    <tr>\n",
       "      <th>LOR</th>\n",
       "      <td>0.017568</td>\n",
       "      <td>0.784376</td>\n",
       "    </tr>\n",
       "    <tr>\n",
       "      <th>CGPA</th>\n",
       "      <td>0.654184</td>\n",
       "      <td>0.317530</td>\n",
       "    </tr>\n",
       "    <tr>\n",
       "      <th>Research</th>\n",
       "      <td>0.495557</td>\n",
       "      <td>0.110682</td>\n",
       "    </tr>\n",
       "  </tbody>\n",
       "</table>\n",
       "</div>"
      ],
      "text/plain": [
       "                   Factor 1  Factor 2\n",
       "Serial No.         0.043753 -0.192983\n",
       "GRE Score          1.037570 -0.097393\n",
       "TOEFL Score        0.746066  0.172070\n",
       "University Rating  0.243482  0.643070\n",
       "SOP               -0.028897  0.928017\n",
       "LOR                0.017568  0.784376\n",
       "CGPA               0.654184  0.317530\n",
       "Research           0.495557  0.110682"
      ]
     },
     "execution_count": 13,
     "metadata": {},
     "output_type": "execute_result"
    }
   ],
   "source": [
    "fa2 = FactorAnalyzer(2, rotation='oblimin')\n",
    "fa2.fit(data)\n",
    "lmatrix2 = pd.DataFrame(fa2.loadings_, index = list(data.columns), columns = ['Factor 1', 'Factor 2'])\n",
    "lmatrix2"
   ]
  },
  {
   "cell_type": "markdown",
   "metadata": {
    "id": "ZddsbLUkJhZQ"
   },
   "source": [
    "Factor 1:GRE score, TOFEL Score, CGPA\n",
    "Factor 2:University Ranking, LOR, SOP\n"
   ]
  },
  {
   "cell_type": "code",
   "execution_count": null,
   "metadata": {
    "id": "GcCqWEbYNTZK"
   },
   "outputs": [],
   "source": []
  }
 ],
 "metadata": {
  "colab": {
   "name": "19CS102 Nithish - Factor Analysis.ipynb",
   "provenance": []
  },
  "kernelspec": {
   "display_name": "Python 3",
   "language": "python",
   "name": "python3"
  },
  "language_info": {
   "codemirror_mode": {
    "name": "ipython",
    "version": 3
   },
   "file_extension": ".py",
   "mimetype": "text/x-python",
   "name": "python",
   "nbconvert_exporter": "python",
   "pygments_lexer": "ipython3",
   "version": "3.8.8"
  }
 },
 "nbformat": 4,
 "nbformat_minor": 1
}
